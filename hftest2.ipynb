{
 "cells": [
  {
   "cell_type": "code",
   "execution_count": 35,
   "metadata": {
    "collapsed": false
   },
   "outputs": [],
   "source": [
    "from keras.models import Model\n",
    "from keras.preprocessing.image import ImageDataGenerator\n",
    "from keras.applications.inception_v3 import InceptionV3,preprocess_input,decode_predictions\n",
    "from keras.preprocessing import image\n",
    "from keras.optimizers import SGD\n",
    "from keras.layers import Dense, GlobalAveragePooling2D, merge, Dropout\n",
    "from keras import backend as K\n",
    "import numpy as np\n",
    "from keras.callbacks import Callback\n",
    "from sklearn import preprocessing\n",
    "from keras.utils.np_utils import to_categorical"
   ]
  },
  {
   "cell_type": "code",
   "execution_count": 36,
   "metadata": {
    "collapsed": false
   },
   "outputs": [
    {
     "data": {
      "text/plain": [
       "[('358474690052f63f9107c823b7a61686', 165),\n",
       " ('342d7068656b00878b23e1031a3ddf50', 165),\n",
       " ('db85b84c1c01fa143b9294f00f7acbeb', 167),\n",
       " ('795985c5c0e7c704a354a487bdffeef5', 171),\n",
       " ('30134467c49a3350f74b4311506f8386', 171),\n",
       " ('3a320926ef941d53716127548523450c', 172),\n",
       " ('ed9cf03b71a8a71d41ecb4e8406a0877', 172),\n",
       " ('a087f33967e659c63924aa07c89b948f', 172),\n",
       " ('24ed88087b0ffeb763e89a197a5cde0d', 172),\n",
       " ('a7b6670e2d23f415998849a8fdedae18', 174),\n",
       " ('8b1800319323ab9b0ce2e0b11b3f4772', 175),\n",
       " ('56221362cba30b7e0c96111cc38c5fcd', 176),\n",
       " ('79f6b47483600c140c91e901f746a368', 176),\n",
       " ('3b4ee6d6140803ebef405983f23ffcc1', 176),\n",
       " ('83518d02afc5754dd9e79985f56c3355', 178),\n",
       " ('9c948f31fc16aca442cc91e7fe05fb95', 179),\n",
       " ('b31c8ec49c09506f17ec3c0c04fce567', 179),\n",
       " ('062244b785e58518f2f189329633c59e', 181),\n",
       " ('63e73f693e541f53d98ed6c93d03ef40', 185),\n",
       " ('39c465a1d078121873a31807ce9dc2ed', 185),\n",
       " ('ea2beb11e25ec317263983dbdd6de81e', 186),\n",
       " ('74a1dad53214d04514269a188f16683a', 187),\n",
       " ('1d6d112c140cb6d1d763a7ca73f2eec0', 187),\n",
       " ('2cd87bc71a43270dc7ce0917f6f6d980', 188),\n",
       " ('7b5a9186df853ff921c211145ca5ab59', 189),\n",
       " ('489c7bf979f6a993869fdc0ae7e4ae34', 192),\n",
       " ('dcb1d130c7640aefc60890d0e90d472d', 195),\n",
       " ('ede635e53e1b4a905bbea74de30371cf', 195),\n",
       " ('fbaf536ad899a31e80be9ff101b119cc', 197),\n",
       " ('c56bcab4b317984013ebef5d3c4b5906', 200),\n",
       " ('861c29e13205420326f7443ea77de5c9', 200),\n",
       " ('de42ef05d5901837bbe974fdb3c30ba5', 202),\n",
       " ('82665201c4108381d854740ddcb86e67', 205),\n",
       " ('4b0465826ffd6db797ea6f3a5898df79', 205),\n",
       " ('1e8267251976e6f3b771b00f32c5798b', 206),\n",
       " ('bfb541e54ad5c7320e8f80e2a2163e93', 206),\n",
       " ('aceaa52f487dd19129857232b2eeb3d5', 212),\n",
       " ('5e560e9b2ae0c20cfc57b308742bc677', 213),\n",
       " ('b64b426fa2b080ad94a2e1c7f423413c', 214),\n",
       " ('5ae394770a82dac7cea5d95ef6482a11', 214),\n",
       " ('45f4183820ce1fa775f8a27d3120aad6', 215),\n",
       " ('bc58ed3c3e7750f9644953020a39e867', 220),\n",
       " ('ccb8b07e7e3d837b2cd08d3edaf009cd', 220),\n",
       " ('4a30943bf6dd5da55d12ccd14aaff0d8', 229),\n",
       " ('68cbc428edbcf480cbbb9a0e66e7046d', 232),\n",
       " ('9649a0013a798a8367d2c493e37468ec', 245),\n",
       " ('7b016984b86b58f83977299591cf4e38', 246),\n",
       " ('e1587900e782de448f604b37cde0fdfd', 256),\n",
       " ('147b0f64f4c2848bc0ad7bc1cdf74afe', 258),\n",
       " ('1468ab18764365ded902fc726aec2c89', 258),\n",
       " ('129349585c3d1f312535b6619fc36bf7', 267),\n",
       " ('8e441c5899bf3d2f3b2c493e62fb92bf', 268),\n",
       " ('c9380d13360b37f21cfd174d92a7247e', 268),\n",
       " ('c8041306a183cbaf39ff8cd707c9cc7f', 278),\n",
       " ('6460e3ba02dfa3b57ebf5d3d0823aa47', 286),\n",
       " ('dc589f213ba7bd398714ac2796b7c0ab', 291),\n",
       " ('3937af6d364e2f24d1cce16fe3916536', 291),\n",
       " ('62b4406512c45730d2c7c40f5e3d0d12', 294),\n",
       " ('31dbc08b8d0a3196c5484c0c068b2bcc', 294),\n",
       " ('49bb8d79587c2172c6cd04dd705fd891', 297),\n",
       " ('3edc6a404b8c67b7dad1405d52228c96', 297),\n",
       " ('8cdd41002b7b5c5d112865054a7fe13e', 298),\n",
       " ('bd14ef3c1a25cf0c5368ccd92a3c5f04', 304),\n",
       " ('cc47068929413a16aa707faefbdf4b70', 304),\n",
       " ('54e7b38b5c91716bd3ad99a0ab740a18', 304),\n",
       " ('e60882af79cababb03ddfa980a75448c', 305),\n",
       " ('c31b03be3da5810b44ea4782d2f3b8a0', 320),\n",
       " ('512fb34e01bd21a92e7ec1380577c985', 321),\n",
       " ('b36edf57ed623e40e433565053f5f6ca', 345),\n",
       " ('234c8d1df0b49b512791078cf00cf352', 356),\n",
       " ('b874a616affcb766bb0e7a4f2a0803f0', 357),\n",
       " ('40f86d376acde0d9862ce7493745bdae', 357),\n",
       " ('db1318d32df7428076e03513ebf762bb', 361),\n",
       " ('80687062449ff7454e2c8926be56f643', 367),\n",
       " ('8a1a67964c0cbea29fc9801b5c42c553', 367),\n",
       " ('f7e1cb7b67e7b154d9dca7d12879d7b0', 372),\n",
       " ('5aabfc58470d01bb2362795a44a2603b', 375),\n",
       " ('b844978933b7ae43e32ce775494821eb', 376),\n",
       " ('397c63db1c7b507d23abff3f8bb0fa18', 376),\n",
       " ('c16781c4321948227193214b68477a5c', 377),\n",
       " ('1950e9aa6ad878bc2a330880f77ae5a1', 377),\n",
       " ('d09f796f2b0aa11dffc88badd9806119', 378),\n",
       " ('50591a7061fb340d875723f38e00cc3b', 380),\n",
       " ('c3e9d9ebe5f2900190bef9342c440bd9', 383),\n",
       " ('bc0ddf03c667c5edb17982be481ef360', 384),\n",
       " ('1a8d67dbb446bdc4298cc0be56932a38', 385),\n",
       " ('83e9823eb4868ca162fd3b7adff70096', 387),\n",
       " ('dd4989789d310581024ae2b9203d5439', 388),\n",
       " ('5fc2ffdd3d24ab503edd9a271dc379bd', 388),\n",
       " ('ce3d8977aae5986601232aa58d15282a', 389),\n",
       " ('6f80666437feea42f295cdc0f1eb4df9', 389),\n",
       " ('0eeac4ecff259dc515be795e1a76019a', 390),\n",
       " ('a6027a4ba71b61a55ea598379c9d508c', 391),\n",
       " ('481c5c92d55717167e01821144a54635', 393),\n",
       " ('10bc951c2eb4a2f05fa773bdaace4e3b', 397),\n",
       " ('121fffad1eb6f7dff228b8a71b6aec72', 397),\n",
       " ('3f8dc381ccfe9d5cc88b75970262715b', 400),\n",
       " ('d8a3c897c506be7de91d8f892f14f934', 401),\n",
       " ('96e7b1bc8d52e18caf0af34fec2e9bcb', 402),\n",
       " ('3cc9a44380296d93e68b71a27643c25f', 413)]"
      ]
     },
     "execution_count": 36,
     "metadata": {},
     "output_type": "execute_result"
    }
   ],
   "source": [
    "import preprocess2 as pp\n",
    "# a képek betöltése és előfeldolgozása\n",
    "csv_data, author_stat = pp.csv_load()\n",
    "# a 10 legtöbb képpel rendelkező alkotót kiválogatjuk\n",
    "authors_to_select = author_stat[-100:]\n",
    "authors_to_select"
   ]
  },
  {
   "cell_type": "code",
   "execution_count": 37,
   "metadata": {
    "collapsed": false
   },
   "outputs": [
    {
     "name": "stdout",
     "output_type": "stream",
     "text": [
      "5 images in the result\n"
     ]
    }
   ],
   "source": [
    "csv_data = pp.csv_select(csv_data, authors_to_select)\n",
    "# az útvonalnak az összes képet tartalmazó könyvtárra kell mutatnia, mert különben\n",
    "# nem fog tudni belőle elég képet kiolvasni\n",
    "train_images, labels = pp.load_images(csv_data, \"train_sample\")"
   ]
  },
  {
   "cell_type": "code",
   "execution_count": 38,
   "metadata": {
    "collapsed": false
   },
   "outputs": [
    {
     "name": "stdout",
     "output_type": "stream",
     "text": [
      "[3 1 2 0 4]\n",
      "[[ 0.  0.  0.  1.  0.]\n",
      " [ 0.  1.  0.  0.  0.]\n",
      " [ 0.  0.  1.  0.  0.]\n",
      " [ 1.  0.  0.  0.  0.]\n",
      " [ 0.  0.  0.  0.  1.]]\n"
     ]
    }
   ],
   "source": [
    "# adatok megfelelő formátumra hozása a keras számára\n",
    "encoder = preprocessing.LabelEncoder()\n",
    "encoder.fit(labels)\n",
    "\n",
    "encoded_l = encoder.transform(labels)\n",
    "print(encoded_l)\n",
    "\n",
    "labels_onehot = to_categorical(encoded_l)\n",
    "print(labels_onehot)"
   ]
  },
  {
   "cell_type": "code",
   "execution_count": 39,
   "metadata": {
    "collapsed": true
   },
   "outputs": [],
   "source": [
    "class TrainingHistory(Callback):\n",
    "    # Tanulási folyamat elején létrehozunk egy-egy üres listát a kinyerni kívánt metrikák tárolása céljából.\n",
    "    def on_train_begin(self, logs={}):\n",
    "        # Hiba mértéke a tanító adatokon.\n",
    "        self.losses = []\n",
    "        # Hiba mértéke a validációs adatokon.\n",
    "        self.valid_losses = []\n",
    "        # A modell jóságát, pontosságát mérő mutatószám a tanító adatokon. \n",
    "        self.accs = []\n",
    "        # A modell jóságát, pontosságát mérő mutatószám a validációs adatokon. \n",
    "        self.valid_accs = []\n",
    "        # A tanítási fázisok sorszámozása.\n",
    "        self.epoch = 0\n",
    "    \n",
    "    # Minden egyes tanítási fázis végén mentsük el, hogy hogyan teljesít aktuálisan a háló. \n",
    "    def on_epoch_end(self, epoch, logs={}):\n",
    "        if epoch % 1 == 0:\n",
    "            self.losses.append(logs.get('loss'))\n",
    "            self.valid_losses.append(logs.get('val_loss'))\n",
    "            self.accs.append(logs.get('acc'))\n",
    "            self.valid_accs.append(logs.get('val_acc'))\n",
    "            self.epoch += 1\n",
    "            \n",
    "history = TrainingHistory()"
   ]
  },
  {
   "cell_type": "code",
   "execution_count": 40,
   "metadata": {
    "collapsed": false
   },
   "outputs": [],
   "source": [
    "##########################################################\n",
    "# error esetére, elvileg nem okoz gondot 'jó' esetben sem\n",
    "import tensorflow as tf\n",
    "tf.python.control_flow_ops = tf\n",
    "##########################################################\n",
    "\n",
    "# előtanított modell betöltése, a fully-connected rétegek nélkül\n",
    "base_model = InceptionV3(weights='imagenet', include_top=False)\n",
    "# az utolsó konvolúciós réteg utána egy global average pooling réteget teszünk, ez rögtön \"lapítja\" (flatten) a 2D konvolúciót\n"
   ]
  },
  {
   "cell_type": "code",
   "execution_count": 41,
   "metadata": {
    "collapsed": false
   },
   "outputs": [
    {
     "name": "stdout",
     "output_type": "stream",
     "text": [
      "tf\n",
      "tf\n",
      "tf\n",
      "tf\n",
      "tf\n",
      "tf\n",
      "tf\n",
      "tf\n",
      "tf\n",
      "tf\n"
     ]
    }
   ],
   "source": [
    "# kinyerjük a stílusjegyeket a cnn köztes rétegegeiből (és max pool cnn kimeneti rétegére)\n",
    "desired_layers = [28, 44, 60, 70, 92, 114, 136, 158, 172, 194]\n",
    "style_layers = [None]*len(desired_layers)\n",
    "\n",
    "for i in range(len(desired_layers)):\n",
    "    style_layers[i] = base_model.layers[desired_layers[i]].output\n",
    "    style_layers[i] = GlobalAveragePooling2D()(style_layers[i])\n",
    "    style_layers[i] = Dense(base_model.layers[desired_layers[i]].output_shape[3], activation='relu')(style_layers[i])"
   ]
  },
  {
   "cell_type": "code",
   "execution_count": 42,
   "metadata": {
    "collapsed": false
   },
   "outputs": [],
   "source": [
    "# egymás mellé tesszük a különböző szintű feature-öket\n",
    "ff = merge(style_layers, mode='concat')\n",
    "\n",
    "# ezután hozzáadunk két előrecsatolt réteget ReLU aktivációs függvénnyel\n",
    "ff = Dense(2048, activation='relu')(ff)\n",
    "ff = Dropout(0.5)(ff)\n",
    "ff = Dense(1024, activation='relu')(ff)\n",
    "\n",
    "# és végül egy kimenete lesz a hálónak - a \"binary_crossentropy\" költségfüggvénynek erre van szüksége\n",
    "predictions = Dense(labels_onehot.shape[1], activation='softmax')(ff)\n",
    "# a model létrehozása\n",
    "model = Model(input=base_model.input, output=predictions)"
   ]
  },
  {
   "cell_type": "code",
   "execution_count": 43,
   "metadata": {
    "collapsed": true
   },
   "outputs": [],
   "source": [
    "# két lépésben fogjuk tanítani a hálót\n",
    "# az első lépésben csak az előrecsatolt rétegeket tanítjuk, a konvolúciós rétegeket befagyasztjuk\n",
    "for layer in base_model.layers:\n",
    "    layer.trainable = False\n",
    "# lefordítjuk a modelt (fontos, hogy ezt a rétegek befagyasztása után csináljuk\"\n",
    "# mivel két osztályunk van, ezért bináris keresztentrópia költségfüggvényt használunk\n",
    "model.compile(optimizer='adam', loss='categorical_crossentropy', metrics=['accuracy'])"
   ]
  },
  {
   "cell_type": "code",
   "execution_count": 44,
   "metadata": {
    "collapsed": false,
    "scrolled": false
   },
   "outputs": [
    {
     "name": "stdout",
     "output_type": "stream",
     "text": [
      "Train on 4 samples, validate on 1 samples\n",
      "Epoch 1/10\n",
      "4/4 [==============================] - 4s - loss: 1.4834 - acc: 0.2500 - val_loss: 13.2023 - val_acc: 0.0000e+00\n",
      "Epoch 2/10\n",
      "4/4 [==============================] - 2s - loss: 0.0941 - acc: 1.0000 - val_loss: 16.1181 - val_acc: 0.0000e+00\n",
      "Epoch 3/10\n",
      "4/4 [==============================] - 2s - loss: 0.0036 - acc: 1.0000 - val_loss: 16.1181 - val_acc: 0.0000e+00\n",
      "Epoch 4/10\n",
      "4/4 [==============================] - 2s - loss: 0.0114 - acc: 1.0000 - val_loss: 16.1181 - val_acc: 0.0000e+00\n",
      "Epoch 5/10\n",
      "4/4 [==============================] - 2s - loss: 1.1921e-07 - acc: 1.0000 - val_loss: 16.1181 - val_acc: 0.0000e+00\n",
      "Epoch 6/10\n",
      "4/4 [==============================] - 2s - loss: 1.1921e-07 - acc: 1.0000 - val_loss: 16.1181 - val_acc: 0.0000e+00\n",
      "Epoch 7/10\n",
      "4/4 [==============================] - 2s - loss: 1.1921e-07 - acc: 1.0000 - val_loss: 16.1181 - val_acc: 0.0000e+00\n",
      "Epoch 8/10\n",
      "4/4 [==============================] - 2s - loss: 1.1921e-07 - acc: 1.0000 - val_loss: 16.1181 - val_acc: 0.0000e+00\n",
      "Epoch 9/10\n",
      "4/4 [==============================] - 2s - loss: 1.1921e-07 - acc: 1.0000 - val_loss: 16.1181 - val_acc: 0.0000e+00\n",
      "Epoch 10/10\n",
      "4/4 [==============================] - 2s - loss: 9.2389e-06 - acc: 1.0000 - val_loss: 16.1181 - val_acc: 0.0000e+00\n"
     ]
    },
    {
     "data": {
      "text/plain": [
       "<keras.callbacks.History at 0x7fbeb5655b70>"
      ]
     },
     "execution_count": 44,
     "metadata": {},
     "output_type": "execute_result"
    }
   ],
   "source": [
    "model.fit(train_images, labels_onehot, batch_size=8, nb_epoch=10, validation_split=0.2, callbacks=[history])"
   ]
  },
  {
   "cell_type": "code",
   "execution_count": 45,
   "metadata": {
    "collapsed": false
   },
   "outputs": [
    {
     "name": "stdout",
     "output_type": "stream",
     "text": [
      "Az Inception V3 konvolúciós rétegei:\n",
      "0 input_2\n",
      "1 convolution2d_95\n",
      "2 batchnormalization_95\n",
      "3 convolution2d_96\n",
      "4 batchnormalization_96\n",
      "5 convolution2d_97\n",
      "6 batchnormalization_97\n",
      "7 maxpooling2d_4\n",
      "8 convolution2d_98\n",
      "9 batchnormalization_98\n",
      "10 convolution2d_99\n",
      "11 batchnormalization_99\n",
      "12 maxpooling2d_5\n",
      "13 convolution2d_103\n",
      "14 batchnormalization_103\n",
      "15 convolution2d_101\n",
      "16 convolution2d_104\n",
      "17 batchnormalization_101\n",
      "18 batchnormalization_104\n",
      "19 averagepooling2d_11\n",
      "20 convolution2d_100\n",
      "21 convolution2d_102\n",
      "22 convolution2d_105\n",
      "23 convolution2d_106\n",
      "24 batchnormalization_100\n",
      "25 batchnormalization_102\n",
      "26 batchnormalization_105\n",
      "27 batchnormalization_106\n",
      "28 mixed0\n",
      "29 convolution2d_110\n",
      "30 batchnormalization_110\n",
      "31 convolution2d_108\n",
      "32 convolution2d_111\n",
      "33 batchnormalization_108\n",
      "34 batchnormalization_111\n",
      "35 averagepooling2d_12\n",
      "36 convolution2d_107\n",
      "37 convolution2d_109\n",
      "38 convolution2d_112\n",
      "39 convolution2d_113\n",
      "40 batchnormalization_107\n",
      "41 batchnormalization_109\n",
      "42 batchnormalization_112\n",
      "43 batchnormalization_113\n",
      "44 mixed1\n",
      "45 convolution2d_117\n",
      "46 batchnormalization_117\n",
      "47 convolution2d_115\n",
      "48 convolution2d_118\n",
      "49 batchnormalization_115\n",
      "50 batchnormalization_118\n",
      "51 averagepooling2d_13\n",
      "52 convolution2d_114\n",
      "53 convolution2d_116\n",
      "54 convolution2d_119\n",
      "55 convolution2d_120\n",
      "56 batchnormalization_114\n",
      "57 batchnormalization_116\n",
      "58 batchnormalization_119\n",
      "59 batchnormalization_120\n",
      "60 mixed2\n",
      "61 convolution2d_122\n",
      "62 batchnormalization_122\n",
      "63 convolution2d_123\n",
      "64 batchnormalization_123\n",
      "65 convolution2d_121\n",
      "66 convolution2d_124\n",
      "67 batchnormalization_121\n",
      "68 batchnormalization_124\n",
      "69 maxpooling2d_6\n",
      "70 mixed3\n",
      "71 convolution2d_129\n",
      "72 batchnormalization_129\n",
      "73 convolution2d_130\n",
      "74 batchnormalization_130\n",
      "75 convolution2d_126\n",
      "76 convolution2d_131\n",
      "77 batchnormalization_126\n",
      "78 batchnormalization_131\n",
      "79 convolution2d_127\n",
      "80 convolution2d_132\n",
      "81 batchnormalization_127\n",
      "82 batchnormalization_132\n",
      "83 averagepooling2d_14\n",
      "84 convolution2d_125\n",
      "85 convolution2d_128\n",
      "86 convolution2d_133\n",
      "87 convolution2d_134\n",
      "88 batchnormalization_125\n",
      "89 batchnormalization_128\n",
      "90 batchnormalization_133\n",
      "91 batchnormalization_134\n",
      "92 mixed4\n",
      "93 convolution2d_139\n",
      "94 batchnormalization_139\n",
      "95 convolution2d_140\n",
      "96 batchnormalization_140\n",
      "97 convolution2d_136\n",
      "98 convolution2d_141\n",
      "99 batchnormalization_136\n",
      "100 batchnormalization_141\n",
      "101 convolution2d_137\n",
      "102 convolution2d_142\n",
      "103 batchnormalization_137\n",
      "104 batchnormalization_142\n",
      "105 averagepooling2d_15\n",
      "106 convolution2d_135\n",
      "107 convolution2d_138\n",
      "108 convolution2d_143\n",
      "109 convolution2d_144\n",
      "110 batchnormalization_135\n",
      "111 batchnormalization_138\n",
      "112 batchnormalization_143\n",
      "113 batchnormalization_144\n",
      "114 mixed5\n",
      "115 convolution2d_149\n",
      "116 batchnormalization_149\n",
      "117 convolution2d_150\n",
      "118 batchnormalization_150\n",
      "119 convolution2d_146\n",
      "120 convolution2d_151\n",
      "121 batchnormalization_146\n",
      "122 batchnormalization_151\n",
      "123 convolution2d_147\n",
      "124 convolution2d_152\n",
      "125 batchnormalization_147\n",
      "126 batchnormalization_152\n",
      "127 averagepooling2d_16\n",
      "128 convolution2d_145\n",
      "129 convolution2d_148\n",
      "130 convolution2d_153\n",
      "131 convolution2d_154\n",
      "132 batchnormalization_145\n",
      "133 batchnormalization_148\n",
      "134 batchnormalization_153\n",
      "135 batchnormalization_154\n",
      "136 mixed6\n",
      "137 convolution2d_159\n",
      "138 batchnormalization_159\n",
      "139 convolution2d_160\n",
      "140 batchnormalization_160\n",
      "141 convolution2d_156\n",
      "142 convolution2d_161\n",
      "143 batchnormalization_156\n",
      "144 batchnormalization_161\n",
      "145 convolution2d_157\n",
      "146 convolution2d_162\n",
      "147 batchnormalization_157\n",
      "148 batchnormalization_162\n",
      "149 averagepooling2d_17\n",
      "150 convolution2d_155\n",
      "151 convolution2d_158\n",
      "152 convolution2d_163\n",
      "153 convolution2d_164\n",
      "154 batchnormalization_155\n",
      "155 batchnormalization_158\n",
      "156 batchnormalization_163\n",
      "157 batchnormalization_164\n",
      "158 mixed7\n",
      "159 convolution2d_167\n",
      "160 batchnormalization_167\n",
      "161 convolution2d_168\n",
      "162 batchnormalization_168\n",
      "163 convolution2d_165\n",
      "164 convolution2d_169\n",
      "165 batchnormalization_165\n",
      "166 batchnormalization_169\n",
      "167 convolution2d_166\n",
      "168 convolution2d_170\n",
      "169 batchnormalization_166\n",
      "170 batchnormalization_170\n",
      "171 averagepooling2d_18\n",
      "172 mixed8\n",
      "173 convolution2d_175\n",
      "174 batchnormalization_175\n",
      "175 convolution2d_172\n",
      "176 convolution2d_176\n",
      "177 batchnormalization_172\n",
      "178 batchnormalization_176\n",
      "179 convolution2d_173\n",
      "180 convolution2d_174\n",
      "181 convolution2d_177\n",
      "182 convolution2d_178\n",
      "183 averagepooling2d_19\n",
      "184 convolution2d_171\n",
      "185 batchnormalization_173\n",
      "186 batchnormalization_174\n",
      "187 batchnormalization_177\n",
      "188 batchnormalization_178\n",
      "189 convolution2d_179\n",
      "190 batchnormalization_171\n",
      "191 mixed9_0\n",
      "192 merge_4\n",
      "193 batchnormalization_179\n",
      "194 mixed9\n",
      "195 convolution2d_184\n",
      "196 batchnormalization_184\n",
      "197 convolution2d_181\n",
      "198 convolution2d_185\n",
      "199 batchnormalization_181\n",
      "200 batchnormalization_185\n",
      "201 convolution2d_182\n",
      "202 convolution2d_183\n",
      "203 convolution2d_186\n",
      "204 convolution2d_187\n",
      "205 averagepooling2d_20\n",
      "206 convolution2d_180\n",
      "207 batchnormalization_182\n",
      "208 batchnormalization_183\n",
      "209 batchnormalization_186\n",
      "210 batchnormalization_187\n",
      "211 convolution2d_188\n",
      "212 batchnormalization_180\n",
      "213 mixed9_1\n",
      "214 merge_5\n",
      "215 batchnormalization_188\n",
      "216 mixed10\n"
     ]
    }
   ],
   "source": [
    "# ehhez először nézzük meg a háló felépítését\n",
    "print(\"Az Inception V3 konvolúciós rétegei:\")\n",
    "for i, layer in enumerate(base_model.layers):\n",
    "   print(i, layer.name)"
   ]
  },
  {
   "cell_type": "code",
   "execution_count": 46,
   "metadata": {
    "collapsed": false
   },
   "outputs": [],
   "source": [
    "# majd a hálónak csak az első 172 rétegét fagyasztjuk, a többit pedig engedjük tanulni\n",
    "for layer in model.layers[:172]:\n",
    "   layer.trainable = False\n",
    "for layer in model.layers[172:]:\n",
    "   layer.trainable = True"
   ]
  },
  {
   "cell_type": "code",
   "execution_count": 47,
   "metadata": {
    "collapsed": false
   },
   "outputs": [
    {
     "name": "stdout",
     "output_type": "stream",
     "text": [
      "Train on 4 samples, validate on 1 samples\n",
      "Epoch 1/10\n",
      "4/4 [==============================] - 3s - loss: 1.1921e-07 - acc: 1.0000 - val_loss: 16.1181 - val_acc: 0.0000e+00\n",
      "Epoch 2/10\n",
      "4/4 [==============================] - 1s - loss: 1.1921e-07 - acc: 1.0000 - val_loss: 16.1181 - val_acc: 0.0000e+00\n",
      "Epoch 3/10\n",
      "4/4 [==============================] - 1s - loss: 1.1921e-07 - acc: 1.0000 - val_loss: 16.1181 - val_acc: 0.0000e+00\n",
      "Epoch 4/10\n",
      "4/4 [==============================] - 1s - loss: 1.1921e-07 - acc: 1.0000 - val_loss: 16.1181 - val_acc: 0.0000e+00\n",
      "Epoch 5/10\n",
      "4/4 [==============================] - 3s - loss: 1.1921e-07 - acc: 1.0000 - val_loss: 16.1181 - val_acc: 0.0000e+00\n",
      "Epoch 6/10\n",
      "4/4 [==============================] - 2s - loss: 1.9372e-07 - acc: 1.0000 - val_loss: 16.1181 - val_acc: 0.0000e+00\n",
      "Epoch 7/10\n",
      "4/4 [==============================] - 1s - loss: 2.9206e-06 - acc: 1.0000 - val_loss: 16.1181 - val_acc: 0.0000e+00\n",
      "Epoch 8/10\n",
      "4/4 [==============================] - 1s - loss: 1.1921e-07 - acc: 1.0000 - val_loss: 16.1181 - val_acc: 0.0000e+00\n",
      "Epoch 9/10\n",
      "4/4 [==============================] - 1s - loss: 1.1921e-07 - acc: 1.0000 - val_loss: 16.1181 - val_acc: 0.0000e+00\n",
      "Epoch 10/10\n",
      "4/4 [==============================] - 1s - loss: 1.1921e-07 - acc: 1.0000 - val_loss: 16.1181 - val_acc: 0.0000e+00\n",
      "Tanítás vége.\n"
     ]
    }
   ],
   "source": [
    "# ez után újra le kell fordítanunk a hálót, hogy most már az Inception V3 felsőbb rétegei tanuljanak\n",
    "model.compile(optimizer=SGD(lr=0.0001, momentum=0.9), loss='categorical_crossentropy', metrics=['accuracy'])\n",
    "\n",
    "# és ismét indítunk egy tanítást, ezúttal nem csak az előrecsatolt rétegek,\n",
    "# hanem az Inception V3 felső rétegei is tovább tanulnak\n",
    "model.fit(train_images, labels_onehot,  batch_size=16, nb_epoch=10, validation_split=0.2, callbacks=[history])\n",
    "print(\"Tanítás vége.\")"
   ]
  },
  {
   "cell_type": "code",
   "execution_count": 50,
   "metadata": {
    "collapsed": false
   },
   "outputs": [],
   "source": [
    "predicted_values = model.predict(np.asarray(train_images))"
   ]
  },
  {
   "cell_type": "code",
   "execution_count": 51,
   "metadata": {
    "collapsed": false
   },
   "outputs": [
    {
     "data": {
      "text/plain": [
       "[3, 1, 2, 0, 2]"
      ]
     },
     "execution_count": 51,
     "metadata": {},
     "output_type": "execute_result"
    }
   ],
   "source": [
    "max_pred = np.zeros(predicted_values.shape, dtype=int)\n",
    "festok = []\n",
    "for i, pred in enumerate(predicted_values):\n",
    "    d = np.argmax(pred)\n",
    "    max_pred[i, d] = 1\n",
    "    festok.append(d)\n",
    "festok"
   ]
  },
  {
   "cell_type": "code",
   "execution_count": 52,
   "metadata": {
    "collapsed": false
   },
   "outputs": [
    {
     "data": {
      "text/plain": [
       "array(['cc47068929413a16aa707faefbdf4b70',\n",
       "       '8e441c5899bf3d2f3b2c493e62fb92bf',\n",
       "       'c56bcab4b317984013ebef5d3c4b5906',\n",
       "       '3cc9a44380296d93e68b71a27643c25f',\n",
       "       'c56bcab4b317984013ebef5d3c4b5906'], \n",
       "      dtype='<U32')"
      ]
     },
     "execution_count": 52,
     "metadata": {},
     "output_type": "execute_result"
    }
   ],
   "source": [
    "encoder.inverse_transform(festok)"
   ]
  },
  {
   "cell_type": "code",
   "execution_count": null,
   "metadata": {
    "collapsed": false
   },
   "outputs": [],
   "source": [
    "# vissza kéne alakítani valahogy...\n",
    "ecovered_X = np.array([ohc.active_features_[col] for col in out.sorted_indices().indices])\\\n",
    ".reshape(n_samples, n_features) - ohc.feature_indices_[:-1]"
   ]
  },
  {
   "cell_type": "code",
   "execution_count": null,
   "metadata": {
    "collapsed": true
   },
   "outputs": [],
   "source": []
  }
 ],
 "metadata": {
  "anaconda-cloud": {},
  "kernelspec": {
   "display_name": "Python [default]",
   "language": "python",
   "name": "python3"
  },
  "language_info": {
   "codemirror_mode": {
    "name": "ipython",
    "version": 3
   },
   "file_extension": ".py",
   "mimetype": "text/x-python",
   "name": "python",
   "nbconvert_exporter": "python",
   "pygments_lexer": "ipython3",
   "version": "3.5.2"
  }
 },
 "nbformat": 4,
 "nbformat_minor": 1
}
